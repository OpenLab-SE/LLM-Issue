{
 "cells": [
  {
   "cell_type": "code",
   "execution_count": 1,
   "metadata": {},
   "outputs": [
    {
     "name": "stderr",
     "output_type": "stream",
     "text": [
      "/opt/conda/lib/python3.8/site-packages/tqdm/auto.py:21: TqdmWarning: IProgress not found. Please update jupyter and ipywidgets. See https://ipywidgets.readthedocs.io/en/stable/user_install.html\n",
      "  from .autonotebook import tqdm as notebook_tqdm\n"
     ]
    },
    {
     "name": "stdout",
     "output_type": "stream",
     "text": [
      "class_weights: tensor([2.5000, 0.8333, 2.5000, 0.5000])\n"
     ]
    }
   ],
   "source": [
    "import numpy as np\n",
    "import pandas as pd\n",
    "from sklearn.utils.class_weight import compute_class_weight\n",
    "import torch\n",
    "import torch.nn as nn\n",
    "\n",
    "# 假设你的标签是整数形式\n",
    "labels = [0, 1, 2, 3]  # 类别标签\n",
    "y_train = [0, 1, 1, 1, 2, 3, 3, 3, 3, 3]  # 训练数据中的标签\n",
    "\n",
    "def my_compute_class_weight(labels, y_train):\n",
    "    # 计算类别权重\n",
    "    class_weights = compute_class_weight('balanced', classes=np.unique(labels), y=y_train)\n",
    "    class_weights = torch.tensor(class_weights, dtype=torch.float)\n",
    "    print(f'class_weights: {class_weights}')\n",
    "\n",
    "my_compute_class_weight(labels, y_train)\n"
   ]
  },
  {
   "cell_type": "code",
   "execution_count": 2,
   "metadata": {},
   "outputs": [],
   "source": [
    "def batch_compute_class_weight(files):\n",
    "    for file in files:\n",
    "        df = pd.read_excel(file)\n",
    "        labels = df.labels.to_numpy()\n",
    "        class_weights = compute_class_weight('balanced', classes=np.unique(labels), y=labels)\n",
    "        class_weights = torch.tensor(class_weights, dtype=torch.float)\n",
    "        print(f'file: {file} class_weights: {class_weights}')"
   ]
  },
  {
   "cell_type": "code",
   "execution_count": 3,
   "metadata": {},
   "outputs": [
    {
     "name": "stdout",
     "output_type": "stream",
     "text": [
      "file: ./my_data/train/streamlit.xlsx class_weights: tensor([1.4040, 2.7983, 5.7148, 0.3629])\n",
      "file: ./my_data/train/streamlit_new.xlsx class_weights: tensor([0.7015, 9.2400, 6.2192, 0.3827, 1.4438])\n",
      "file: ./my_data/train/streamlit_TRAIN_Aug.xlsx class_weights: tensor([0.8733, 1.7467, 3.5568, 0.4997])\n",
      "file: ./my_data/train/EasyOCR_newlabel_with_comments.xlsx class_weights: tensor([3.7677, 4.1714, 9.7333, 0.6871, 0.3405])\n"
     ]
    }
   ],
   "source": [
    "files = [\n",
    "    './my_data/train/streamlit.xlsx',\n",
    "    './my_data/train/streamlit_new.xlsx',\n",
    "    './my_data/train/streamlit_TRAIN_Aug.xlsx',\n",
    "    './my_data/train/EasyOCR_newlabel_with_comments.xlsx'\n",
    "]\n",
    "\n",
    "batch_compute_class_weight(files)"
   ]
  },
  {
   "cell_type": "code",
   "execution_count": 5,
   "metadata": {},
   "outputs": [
    {
     "data": {
      "text/plain": [
       "other          845\n",
       "Error          461\n",
       "question       224\n",
       "deployment      52\n",
       "Performance     35\n",
       "Name: labels, dtype: int64"
      ]
     },
     "execution_count": 5,
     "metadata": {},
     "output_type": "execute_result"
    }
   ],
   "source": [
    "file = './my_data/train/streamlit_new.xlsx'\n",
    "df = pd.read_excel(file)\n",
    "df[\"labels\"].value_counts()"
   ]
  },
  {
   "cell_type": "code",
   "execution_count": null,
   "metadata": {},
   "outputs": [],
   "source": []
  }
 ],
 "metadata": {
  "kernelspec": {
   "display_name": "issue",
   "language": "python",
   "name": "python3"
  },
  "language_info": {
   "codemirror_mode": {
    "name": "ipython",
    "version": 3
   },
   "file_extension": ".py",
   "mimetype": "text/x-python",
   "name": "python",
   "nbconvert_exporter": "python",
   "pygments_lexer": "ipython3",
   "version": "3.8.18"
  }
 },
 "nbformat": 4,
 "nbformat_minor": 2
}
