{
 "cells": [
  {
   "cell_type": "code",
   "execution_count": 2,
   "metadata": {},
   "outputs": [],
   "source": [
    "import re\n",
    "import pandas as pd"
   ]
  },
  {
   "cell_type": "code",
   "execution_count": 3,
   "metadata": {},
   "outputs": [],
   "source": [
    "# df = pd.read_excel('./my_data/train/streamlit_new.xlsx')\n",
    "# df = pd.read_excel('./my_data/train/deepfacelab_newlabel.xlsx')\n",
    "# df = pd.read_excel('./my_data/train/EasyOCR_newlabel.xlsx')\n",
    "# df = pd.read_excel('./my_data/train/faceswap_newlabel.xlsx')\n",
    "# df = pd.read_excel('./my_data/train/jetson-inference_newlabel.xlsx')\n",
    "# df = pd.read_excel('./my_data/train/Real-Time-Voice-Cloning_newlabel.xlsx')\n",
    "# df = pd.read_excel('./my_data/train/recommenders_newlabel.xlsx')\n",
    "# df = pd.read_excel('./my_data/train/TTS_newlabel.xlsx')"
   ]
  },
  {
   "cell_type": "code",
   "execution_count": 4,
   "metadata": {},
   "outputs": [],
   "source": [
    "def enhanced_clean_text(text):\n",
    "    if pd.isna(text):\n",
    "        return \"\"\n",
    "    \n",
    "    # Remove HTML Encoded Characters (e.g., 聽, &#10;)\n",
    "    text = re.sub(r'&#[0-9]+;', '', text)\n",
    "    text = re.sub(r'聽', '', text)\n",
    "    text = re.sub(r'鈥', '', text)\n",
    "    text = re.sub(r'[淔|芒|鈧|弮|馃|徑|峈|槼|鈿|欙|笍|鉂|揇|檵|悶|嵒|懇|嶐|煉|籗|巵|摐|檓|榳|榮|櫬]', '', text)\n",
    "    text = re.sub(r'[锛|嵚|犅|嶏|紞|鈫|抳|檛|檇|淒|檝|掳|檚|澛|淭|宼|鉁|憠|宸|叉|槸|鏂|扮|増|鏈|滩]', '', text)\n",
    "    text = re.sub(r'[槩|淪|孋|憟|鉃|槅|減]', '', text)\n",
    "\n",
    "    text = re.sub(r'<[^>]+>', '', text)\n",
    "\n",
    "    # 删除标题 # Heading\n",
    "    text = re.sub(r'(^|\\n)\\s*#{1,6}\\s+','', text)\n",
    "\n",
    "    # 删除图片 ![...](url)\n",
    "    text = re.sub(r'!\\[[^\\]]*\\]\\([^\\)]+\\)', '', text)\n",
    "    # 删除超链接 [text](url)\n",
    "    text = re.sub(r'\\[[^\\]]+\\]\\([^\\)]+\\)', '', text)\n",
    "\n",
    "    # Remove code blocks surrounded by ```\n",
    "    text = re.sub(r'```[\\s\\S]*?```', '', text)\n",
    "\n",
    "    # Remove code blocks with indentation\n",
    "    text = re.sub(r'\\n\\s{4}.*', '', text)\n",
    "    \n",
    "    text = re.sub(r'https?://\\S+|www\\.\\S+', '', text)\n",
    "\n",
    "    # 删除斜体 *text* or _text_\n",
    "    text = re.sub(r'\\*[^*]+\\*|_[^_]+_', '', text)\n",
    "    # 删除加粗 **text** or __text__\n",
    "    text = re.sub(r'\\*\\*[^*]+\\*\\*|__[^_]+__', '', text)\n",
    "    # 删除删除线 ~~text~~\n",
    "    text = re.sub(r'~~[^~]+~~', '', text)\n",
    "\n",
    "    # Lowercasing\n",
    "    text = text.lower()\n",
    "\n",
    "    # Simple tokenization (splitting text into words)\n",
    "    tokens = text.split()\n",
    "\n",
    "    # Joining the tokens back into a string\n",
    "    return ' '.join(tokens)"
   ]
  },
  {
   "cell_type": "code",
   "execution_count": 5,
   "metadata": {},
   "outputs": [],
   "source": [
    "# df['description'] = df['description'].apply(enhanced_clean_text)"
   ]
  },
  {
   "cell_type": "code",
   "execution_count": 6,
   "metadata": {},
   "outputs": [],
   "source": [
    "# for des in df.description:\n",
    "#     print(des)"
   ]
  },
  {
   "cell_type": "code",
   "execution_count": 7,
   "metadata": {},
   "outputs": [],
   "source": [
    "df = pd.read_excel('./my_data/train/pytorch_newlabel.xlsx')\n",
    "df['description'] = df['description'].apply(enhanced_clean_text)\n",
    "df.to_excel('./my_data/train/pytorch_newlabel_clean.xlsx', index=False)  # 如果不想保存索引，请设置index=False\n",
    "\n",
    "df = pd.read_excel('./my_data/train/tensorflow_newlabel.xlsx')\n",
    "df['description'] = df['description'].apply(enhanced_clean_text)\n",
    "df.to_excel('./my_data/train/tensorflow_newlabel_clean.xlsx', index=False)  # 如果不想保存索引，请设置index=False\n",
    "\n",
    "df = pd.read_excel('./my_data/train/caffe_newlabel.xlsx')\n",
    "df['description'] = df['description'].apply(enhanced_clean_text)\n",
    "df.to_excel('./my_data/train/caffe_newlabel_clean.xlsx', index=False)  # 如果不想保存索引，请设置index=False"
   ]
  },
  {
   "cell_type": "code",
   "execution_count": 6,
   "metadata": {},
   "outputs": [],
   "source": [
    "df = pd.read_excel('./my_data/train/deepfacelab_newlabel.xlsx')\n",
    "df['description'] = df['description'].apply(enhanced_clean_text)\n",
    "df.to_excel('./my_data/train/deepfacelab_newlabel_clean.xlsx', index=False)  # 如果不想保存索引，请设置index=False"
   ]
  },
  {
   "cell_type": "code",
   "execution_count": null,
   "metadata": {},
   "outputs": [],
   "source": [
    "df = pd.read_excel('./my_data/train/faceswap_newlabel.xlsx')\n",
    "df['description'] = df['description'].apply(enhanced_clean_text)\n",
    "df.to_excel('./my_data/train/faceswap_newlabel_clean.xlsx', index=False)  # 如果不想保存索引，请设置index=False"
   ]
  },
  {
   "cell_type": "code",
   "execution_count": 9,
   "metadata": {},
   "outputs": [],
   "source": [
    "# df = pd.read_excel('./my_data/train/EasyOCR_newlabel.xlsx')\n",
    "df = pd.read_excel('./my_data/train/EasyOCR_newlabel_with_comments.xlsx')\n",
    "# df = df.fillna('no meaning')\n",
    "df['description'] = df['description'].apply(enhanced_clean_text)\n",
    "df['commment_concat_str'] = df['commment_concat_str'].apply(enhanced_clean_text)\n",
    "df.to_excel('./my_data/train/EasyOCR_newlabel_with_comments_clean.xlsx', index=False)  # 如果不想保存索引，请设置index=False\n"
   ]
  },
  {
   "cell_type": "code",
   "execution_count": 7,
   "metadata": {},
   "outputs": [],
   "source": [
    "df = pd.read_excel('./my_data/train/openpose_newlabel.xlsx')\n",
    "df['description'] = df['description'].apply(enhanced_clean_text)\n",
    "df.to_excel('./my_data/train/openpose_newlabel_clean.xlsx', index=False)  # 如果不想保存索引，请设置index=False\n"
   ]
  },
  {
   "cell_type": "code",
   "execution_count": null,
   "metadata": {},
   "outputs": [],
   "source": [
    "df = pd.read_excel('./my_data/train/pytorch-CycleGAN-and-pix2pix_newlabel.xlsx')\n",
    "df['description'] = df['description'].apply(enhanced_clean_text)\n",
    "df.to_excel('./my_data/train/pytorch-CycleGAN-and-pix2pix_newlabel_clean.xlsx', index=False)  # 如果不想保存索引，请设置index=False"
   ]
  },
  {
   "cell_type": "code",
   "execution_count": 7,
   "metadata": {},
   "outputs": [],
   "source": [
    "df = pd.read_excel('./my_data/train/faceswap_newlabel.xlsx')\n",
    "df['description'] = df['description'].apply(enhanced_clean_text)\n",
    "df.to_excel('./my_data/train/faceswap_newlabel_clean.xlsx', index=False)  # 如果不想保存索引，请设置index=False"
   ]
  },
  {
   "cell_type": "code",
   "execution_count": null,
   "metadata": {},
   "outputs": [],
   "source": [
    "df = pd.read_excel('./my_data/train/jetson-inference_newlabel.xlsx', usecols=['labels'])\n",
    "df['description'] = df['description'].apply(enhanced_clean_text)\n",
    "df.to_excel('./my_data/train/jetson-inference_newlabel_clean.xlsx', index=False)  # 如果不想保存索引，请设置index=False"
   ]
  },
  {
   "cell_type": "code",
   "execution_count": 14,
   "metadata": {},
   "outputs": [],
   "source": [
    "df = pd.read_excel('./my_data/train/Real-Time-Voice-Cloning_newlabel.xlsx')\n",
    "df['description'] = df['description'].apply(enhanced_clean_text)\n",
    "df.to_excel('./my_data/train/Real-Time-Voice-Cloning_newlabel_clean.xlsx', index=False)  # 如果不想保存索引，请设置index=False"
   ]
  },
  {
   "cell_type": "code",
   "execution_count": 11,
   "metadata": {},
   "outputs": [],
   "source": [
    "df = pd.read_excel('./my_data/train/recommenders_newlabel.xlsx')\n",
    "df['description'] = df['description'].apply(enhanced_clean_text)\n",
    "df.to_excel('./my_data/train/recommenders_newlabel_clean.xlsx', index=False)  # 如果不想保存索引，请设置index=False"
   ]
  },
  {
   "cell_type": "code",
   "execution_count": 13,
   "metadata": {},
   "outputs": [],
   "source": [
    "df = pd.read_excel('./my_data/train/TTS_newlabel.xlsx')\n",
    "df['description'] = df['description'].apply(enhanced_clean_text)\n",
    "df.to_excel('./my_data/train/TTS_newlabel_clean.xlsx', index=False)  # 如果不想保存索引，请设置index=False"
   ]
  },
  {
   "cell_type": "code",
   "execution_count": null,
   "metadata": {},
   "outputs": [],
   "source": []
  }
 ],
 "metadata": {
  "kernelspec": {
   "display_name": "issue",
   "language": "python",
   "name": "python3"
  },
  "language_info": {
   "codemirror_mode": {
    "name": "ipython",
    "version": 3
   },
   "file_extension": ".py",
   "mimetype": "text/x-python",
   "name": "python",
   "nbconvert_exporter": "python",
   "pygments_lexer": "ipython3",
   "version": "3.8.18"
  }
 },
 "nbformat": 4,
 "nbformat_minor": 2
}
